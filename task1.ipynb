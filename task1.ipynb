{
 "cells": [
  {
   "cell_type": "markdown",
   "id": "e436f02e",
   "metadata": {},
   "source": [
    "# Task 1: Gate Tomography"
   ]
  },
  {
   "cell_type": "markdown",
   "id": "2765f766",
   "metadata": {},
   "source": [
    "The given template circuit includes a combination of T, T-dagger, CNOT and Hadamard gate. For the complete circuit to be equivalent to a Toffoli gate, the question mark boxes will contain any of the aforementioned (T, T-dagger, CNOT, Hadamard) gates. \n",
    "\n",
    "By doing necessary calculations, it is found that-\n",
    "For the first question marked box, the parameter set is: \n",
    "(theta, phi, lambda) = (pi/2, 0, pi) \n",
    "making it a Hadamard gate. \n",
    "For the second question marded box, the parameter set is:\n",
    "(theta, phi, lambda) = (0, 0, -pi/4)\n",
    "making it a T-dagger gate."
   ]
  },
  {
   "cell_type": "code",
   "execution_count": 12,
   "id": "c097a77b",
   "metadata": {},
   "outputs": [
    {
     "data": {
      "text/html": [
       "<pre style=\"word-wrap: normal;white-space: pre;background: #fff0;line-height: 1.1;font-family: &quot;Courier New&quot;,Courier,monospace\">         ┌───┐                                                      »\n",
       "q_0: ────┤ T ├───────■───────────■─────────────────────■────────────»\n",
       "         └───┘     ┌─┴─┐┌─────┐┌─┴─┐┌───┐              │            »\n",
       "q_1: ──────────────┤ X ├┤ Tdg ├┤ X ├┤ T ├──■───────────┼─────────■──»\n",
       "     ┌────────────┐└───┘└─────┘└───┘└───┘┌─┴─┐┌─────┐┌─┴─┐┌───┐┌─┴─┐»\n",
       "q_2: ┤ U(π/2,0,π) ├──────────────────────┤ X ├┤ Tdg ├┤ X ├┤ T ├┤ X ├»\n",
       "     └────────────┘                      └───┘└─────┘└───┘└───┘└───┘»\n",
       "«                                   \n",
       "«q_0: ─────────────────■────────────\n",
       "«                      │            \n",
       "«q_1: ─────────────────┼────────────\n",
       "«     ┌─────────────┐┌─┴─┐┌───┐┌───┐\n",
       "«q_2: ┤ U(0,0,-π/4) ├┤ X ├┤ T ├┤ H ├\n",
       "«     └─────────────┘└───┘└───┘└───┘</pre>"
      ],
      "text/plain": [
       "         ┌───┐                                                      »\n",
       "q_0: ────┤ T ├───────■───────────■─────────────────────■────────────»\n",
       "         └───┘     ┌─┴─┐┌─────┐┌─┴─┐┌───┐              │            »\n",
       "q_1: ──────────────┤ X ├┤ Tdg ├┤ X ├┤ T ├──■───────────┼─────────■──»\n",
       "     ┌────────────┐└───┘└─────┘└───┘└───┘┌─┴─┐┌─────┐┌─┴─┐┌───┐┌─┴─┐»\n",
       "q_2: ┤ U(π/2,0,π) ├──────────────────────┤ X ├┤ Tdg ├┤ X ├┤ T ├┤ X ├»\n",
       "     └────────────┘                      └───┘└─────┘└───┘└───┘└───┘»\n",
       "«                                   \n",
       "«q_0: ─────────────────■────────────\n",
       "«                      │            \n",
       "«q_1: ─────────────────┼────────────\n",
       "«     ┌─────────────┐┌─┴─┐┌───┐┌───┐\n",
       "«q_2: ┤ U(0,0,-π/4) ├┤ X ├┤ T ├┤ H ├\n",
       "«     └─────────────┘└───┘└───┘└───┘"
      ]
     },
     "execution_count": 12,
     "metadata": {},
     "output_type": "execute_result"
    }
   ],
   "source": [
    "from qiskit import QuantumCircuit\n",
    "import numpy as np\n",
    "\n",
    "qc = QuantumCircuit(3)\n",
    "#Parameters for the 1st U3 gate:\n",
    "theta1 = np.pi/2\n",
    "phi1 = 0\n",
    "lam1 = np.pi \n",
    "\n",
    "#Parameters for the 2nd U3 gate:\n",
    "theta2 = 0\n",
    "phi2 = 0\n",
    "lam2 = -np.pi/4\n",
    "\n",
    "qc.t(0)\n",
    "#First U3 gate:\n",
    "qc.u(theta1, phi1, lam1, 2)\n",
    "qc.cx(0,1)\n",
    "qc.tdg(1)\n",
    "qc.cx(0,1)\n",
    "qc.t(1)\n",
    "qc.cx(1,2)\n",
    "qc.tdg(2)\n",
    "qc.cx(0,2)\n",
    "qc.t(2)\n",
    "qc.cx(1,2)\n",
    "#Second U3 gate: \n",
    "qc.u(theta2, phi2, lam2,2)\n",
    "qc.cx(0,2)\n",
    "qc.t(2)\n",
    "qc.h(2)\n",
    "\n",
    "qc.draw()\n",
    "\n"
   ]
  },
  {
   "cell_type": "markdown",
   "id": "1fd31673",
   "metadata": {},
   "source": [
    "##Verification of the U3 matrices"
   ]
  },
  {
   "cell_type": "code",
   "execution_count": 13,
   "id": "695de04d",
   "metadata": {},
   "outputs": [
    {
     "name": "stdout",
     "output_type": "stream",
     "text": [
      "The first U3 gate is equivalent to a Hadamard gate.\n",
      "The second U3 gate is equivalent to a T-dagger gate.\n"
     ]
    }
   ],
   "source": [
    "from qiskit.quantum_info import Operator\n",
    "from qiskit.circuit.library.standard_gates import U3Gate\n",
    "\n",
    "# 1st U3 gate matrix (Hadamard)\n",
    "u3_hadamard = Operator(U3Gate(theta1, phi1, lam1)).data\n",
    "# 2nd U3 gate matrix (T-dagger)\n",
    "u3_tdg = Operator(U3Gate(theta2, phi2, lam2)).data\n",
    "\n",
    "H = (1/np.sqrt(2)) * np.array([[1, 1], [1, -1]])\n",
    "Tdg = np.array([[1, 0], [0, np.exp(-1j*np.pi/4)]])\n",
    "\n",
    "def matrices_equal(m1, m2, tol=1e-8):\n",
    "    #Normalize global phase\n",
    "    phase = np.angle(np.vdot(m1.flatten(), m2.flatten()))\n",
    "    return np.allclose(m1, np.exp(1j*phase) * m2, atol=tol)\n",
    "\n",
    "if matrices_equal(u3_hadamard, H):\n",
    "    print(\"The first U3 gate is equivalent to a Hadamard gate.\")\n",
    "else:\n",
    "    print(\"The first U3 gate is NOT equivalent to a Hadamard gate.\")\n",
    "\n",
    "if matrices_equal(u3_tdg, Tdg):\n",
    "    print(\"The second U3 gate is equivalent to a T-dagger gate.\")\n",
    "else:\n",
    "    print(\"The second U3 gate is NOT equivalent to a T-dagger gate.\")\n"
   ]
  }
 ],
 "metadata": {
  "kernelspec": {
   "display_name": "Python 3",
   "language": "python",
   "name": "python3"
  },
  "language_info": {
   "codemirror_mode": {
    "name": "ipython",
    "version": 3
   },
   "file_extension": ".py",
   "mimetype": "text/x-python",
   "name": "python",
   "nbconvert_exporter": "python",
   "pygments_lexer": "ipython3",
   "version": "3.11.5"
  }
 },
 "nbformat": 4,
 "nbformat_minor": 5
}
